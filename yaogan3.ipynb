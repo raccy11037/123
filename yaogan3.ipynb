{
 "cells": [
  {
   "cell_type": "code",
   "execution_count": 4,
   "id": "c465d149",
   "metadata": {},
   "outputs": [
    {
     "data": {
      "text/plain": [
       "1"
      ]
     },
     "execution_count": 4,
     "metadata": {},
     "output_type": "execute_result"
    }
   ],
   "source": [
    "import os\n",
    "\n",
    "os.system(\"pip install -r datasets3/src/yolov5/requirements.txt\")\n"
   ]
  },
  {
   "cell_type": "code",
   "execution_count": 7,
   "id": "e6e3c1de",
   "metadata": {},
   "outputs": [
    {
     "name": "stderr",
     "output_type": "stream",
     "text": [
      "100%|██████████| 79/79 [00:00<00:00, 553.78it/s]\n"
     ]
    }
   ],
   "source": [
    "import json\n",
    "import os\n",
    "from tqdm import tqdm\n",
    "import shutil\n",
    "\n",
    "train_yolo_save_path = 'results/data/train/'\n",
    "if not os.path.exists(train_yolo_save_path):\n",
    "    os.makedirs(train_yolo_save_path)\n",
    "\n",
    "train_anno_file = \"datasets3/mini_airplane/annotations/train.json\"\n",
    "with open(train_anno_file, 'r') as f:\n",
    "    train_anno = json.load(f)\n",
    "imageid2annos = dict()\n",
    "for anno in train_anno[\"annotations\"]:\n",
    "    imageid = anno[\"image_id\"]\n",
    "    if imageid not in imageid2annos:\n",
    "        imageid2annos[imageid] = []\n",
    "    imageid2annos[imageid].append(anno)\n",
    "    \n",
    "for image in tqdm(train_anno[\"images\"]):\n",
    "    imageid = image[\"id\"]\n",
    "    imagename = image[\"file_name\"]\n",
    "    image_h = image[\"height\"]\n",
    "    image_w = image[\"width\"]\n",
    "    dh = 1 / image_h\n",
    "    dw = 1 / image_w\n",
    "    with open(train_yolo_save_path + imagename.split(\".\")[0] + \".txt\", \"w\") as f:\n",
    "        for anno in imageid2annos[imageid]:\n",
    "            xmin, ymin, w, h = anno[\"bbox\"]\n",
    "            xmax = xmin + w\n",
    "            ymax = ymin + h\n",
    "            x_center = (xmin + xmax) / 2.0\n",
    "            x_center = x_center * dw\n",
    "            y_center = (ymin + ymax) / 2.0\n",
    "            y_center = y_center * dh\n",
    "            w *= dw\n",
    "            h *= dh\n",
    "            mystring = \"0\" + \" \" + str(round(x_center,7)) + \" \" +  str(round(y_center,7)) + \" \" +  str(round(w,7)) + \" \" +  str(round(h,7))\n",
    "            f.write(mystring)\n",
    "            f.write(\"\\n\")\n",
    "    shutil.copy(\"datasets3/mini_airplane/images/\" + imagename, train_yolo_save_path + imagename)"
   ]
  },
  {
   "cell_type": "code",
   "execution_count": 8,
   "id": "1a7a22f8",
   "metadata": {},
   "outputs": [
    {
     "name": "stderr",
     "output_type": "stream",
     "text": [
      "100%|██████████| 20/20 [00:00<00:00, 551.74it/s]\n"
     ]
    }
   ],
   "source": [
    "val_yolo_save_path = 'results/data/val/'\n",
    "if not os.path.exists(val_yolo_save_path):\n",
    "    os.makedirs(val_yolo_save_path)\n",
    "val_anno_file = \"datasets3/mini_airplane/annotations/val.json\"\n",
    "with open(val_anno_file, 'r') as f:\n",
    "    val_anno = json.load(f)\n",
    "imageid2annos = dict()\n",
    "for anno in val_anno[\"annotations\"]:\n",
    "    imageid = anno[\"image_id\"]\n",
    "    if imageid not in imageid2annos:\n",
    "        imageid2annos[imageid] = []\n",
    "    imageid2annos[imageid].append(anno)\n",
    "    \n",
    "for image in tqdm(val_anno[\"images\"]):\n",
    "    imageid = image[\"id\"]\n",
    "    imagename = image[\"file_name\"]\n",
    "    image_h = image[\"height\"]\n",
    "    image_w = image[\"width\"]\n",
    "    dh = 1 / image_h\n",
    "    dw = 1 / image_w\n",
    "    with open(val_yolo_save_path + imagename.split(\".\")[0] + \".txt\", \"w\") as f:\n",
    "        for anno in imageid2annos[imageid]:\n",
    "            xmin, ymin, w, h = anno[\"bbox\"]\n",
    "            xmax = xmin + w\n",
    "            ymax = ymin + h\n",
    "            x_center = (xmin + xmax) / 2.0\n",
    "            x_center = x_center * dw\n",
    "            y_center = (ymin + ymax) / 2.0\n",
    "            y_center = y_center * dh\n",
    "            w *= dw\n",
    "            h *= dh\n",
    "            mystring = \"0\" + \" \" + str(round(x_center,7)) + \" \" +  str(round(y_center,7)) + \" \" +  str(round(w,7)) + \" \" +  str(round(h,7))\n",
    "            f.write(mystring)\n",
    "            f.write(\"\\n\")\n",
    "    shutil.copy(\"datasets3/mini_airplane/images/\" + imagename, val_yolo_save_path + imagename)"
   ]
  },
  {
   "cell_type": "code",
   "execution_count": 9,
   "id": "f1172e5e",
   "metadata": {},
   "outputs": [
    {
     "data": {
      "text/plain": [
       "1"
      ]
     },
     "execution_count": 9,
     "metadata": {},
     "output_type": "execute_result"
    }
   ],
   "source": [
    "import os\n",
    "\n",
    "os.system(\"ls results/data/val/\")\n"
   ]
  },
  {
   "cell_type": "code",
   "execution_count": 10,
   "id": "3635e48e",
   "metadata": {},
   "outputs": [
    {
     "name": "stdout",
     "output_type": "stream",
     "text": [
      "0 0.4929759 0.4304922 0.9043326 0.2242031\n",
      "\n"
     ]
    }
   ],
   "source": [
    "with open(\"results/data/val/COCO_val2014_000000179142.txt\", \"r\") as f:\n",
    "    content = f.read()\n",
    "    print(content)\n"
   ]
  },
  {
   "cell_type": "code",
   "execution_count": 12,
   "id": "5be84f3b",
   "metadata": {},
   "outputs": [
    {
     "name": "stdout",
     "output_type": "stream",
     "text": [
      "# COCO 2017 dataset http://cocodataset.org - first 128 training images\n",
      "# Download command:  python -c \"from yolov5.utils.google_utils import gdrive_download; gdrive_download('1n_oKgR81BJtqk75b00eAjdv03qVCQn2f','coco128.zip')\"\n",
      "# Train command: python train.py --data ./data/coco128.yaml\n",
      "# Dataset should be placed next to yolov5 folder:\n",
      "#   /parent_folder\n",
      "#     /mini-airplane\n",
      "#     /yolov5\n",
      "\n",
      "\n",
      "# train and val datasets (image directory or *.txt file with image paths)\n",
      "train: results/data/train/\n",
      "val: results/data/val/\n",
      "\n",
      "# number of classes\n",
      "nc: 1\n",
      "\n",
      "# class names\n",
      "names: ['airplane']\n",
      "\n"
     ]
    }
   ],
   "source": [
    "with open(\"datasets3/src/yolov5/data/mini-airplane.yaml\", \"r\") as f:\n",
    "    content = f.read()\n",
    "    print(content)\n"
   ]
  },
  {
   "cell_type": "code",
   "execution_count": 14,
   "id": "7bcd6976",
   "metadata": {},
   "outputs": [
    {
     "name": "stdout",
     "output_type": "stream",
     "text": [
      "# parameters\n",
      "nc: 1  # number of classes\n",
      "depth_multiple: 0.33  # model depth multiple\n",
      "width_multiple: 0.50  # layer channel multiple\n",
      "\n",
      "# anchors\n",
      "anchors:\n",
      "  - [116,90, 156,198, 373,326]  # P5/32\n",
      "  - [30,61, 62,45, 59,119]  # P4/16\n",
      "  - [10,13, 16,30, 33,23]  # P3/8\n",
      "\n",
      "# YOLOv5 backbone\n",
      "backbone:\n",
      "  # [from, number, module, args]\n",
      "  [[-1, 1, Focus, [64, 3]],  # 0-P1/2\n",
      "   [-1, 1, Conv, [128, 3, 2]],  # 1-P2/4\n",
      "   [-1, 3, BottleneckCSP, [128]],\n",
      "   [-1, 1, Conv, [256, 3, 2]],  # 3-P3/8\n",
      "   [-1, 9, BottleneckCSP, [256]],\n",
      "   [-1, 1, Conv, [512, 3, 2]],  # 5-P4/16\n",
      "   [-1, 9, BottleneckCSP, [512]],\n",
      "   [-1, 1, Conv, [1024, 3, 2]], # 7-P5/32\n",
      "   [-1, 1, SPP, [1024, [5, 9, 13]]],\n",
      "  ]\n",
      "\n",
      "# YOLOv5 head\n",
      "head:\n",
      "  [[-1, 3, BottleneckCSP, [1024, False]],  # 9\n",
      "\n",
      "   [-1, 1, Conv, [512, 1, 1]],\n",
      "   [-1, 1, nn.Upsample, [None, 2, 'nearest']],\n",
      "   [[-1, 6], 1, Concat, [1]],  # cat backbone P4\n",
      "   [-1, 3, BottleneckCSP, [512, False]],  # 13\n",
      "\n",
      "   [-1, 1, Conv, [256, 1, 1]],\n",
      "   [-1, 1, nn.Upsample, [None, 2, 'nearest']],\n",
      "   [[-1, 4], 1, Concat, [1]],  # cat backbone P3\n",
      "   [-1, 3, BottleneckCSP, [256, False]],\n",
      "   [-1, 1, nn.Conv2d, [na * (nc + 5), 1, 1]],  # 18 (P3/8-small)\n",
      "\n",
      "   [-2, 1, Conv, [256, 3, 2]],\n",
      "   [[-1, 14], 1, Concat, [1]],  # cat head P4\n",
      "   [-1, 3, BottleneckCSP, [512, False]],\n",
      "   [-1, 1, nn.Conv2d, [na * (nc + 5), 1, 1]],  # 22 (P4/16-medium)\n",
      "\n",
      "   [-2, 1, Conv, [512, 3, 2]],\n",
      "   [[-1, 10], 1, Concat, [1]],  # cat head P5\n",
      "   [-1, 3, BottleneckCSP, [1024, False]],\n",
      "   [-1, 1, nn.Conv2d, [na * (nc + 5), 1, 1]],  # 26 (P5/32-large)\n",
      "\n",
      "   [[], 1, Detect, [nc, anchors]],  # Detect(P5, P4, P3)\n",
      "  ]\n",
      "\n"
     ]
    }
   ],
   "source": [
    "with open(\"datasets3/src/yolov5/models/yolov5s-airplane.yaml\", \"r\") as f:\n",
    "    content = f.read()\n",
    "    print(content)\n"
   ]
  },
  {
   "cell_type": "code",
   "execution_count": 15,
   "id": "72351651",
   "metadata": {},
   "outputs": [
    {
     "data": {
      "text/plain": [
       "1"
      ]
     },
     "execution_count": 15,
     "metadata": {},
     "output_type": "execute_result"
    }
   ],
   "source": [
    "import os\n",
    "\n",
    "os.system(\"python datasets3/src/yolov5/train.py --img 640 --batch 2 --epochs 5 --data datasets/src/yolov5/data/mini-airplane.yaml --cfg datasets/src/yolov5/models/yolov5s-airplane.yaml --weights datasets/src/yolov5/yolov5s.pt\")\n"
   ]
  },
  {
   "cell_type": "code",
   "execution_count": 35,
   "id": "482289fd",
   "metadata": {},
   "outputs": [],
   "source": [
    "from matplotlib import pyplot as plt\n",
    "import matplotlib.image as mpimg\n",
    "import glob\n",
    "import numpy as np\n",
    "\n",
    "%matplotlib inline"
   ]
  },
  {
   "cell_type": "code",
   "execution_count": 36,
   "id": "0f088a50",
   "metadata": {},
   "outputs": [
    {
     "name": "stdout",
     "output_type": "stream",
     "text": [
      "\n"
     ]
    }
   ],
   "source": [
    "with open(\"datasets3/results/results.txt\", \"r\") as f:\n",
    "    content = f.read()\n",
    "    print(content)\n"
   ]
  },
  {
   "cell_type": "code",
   "execution_count": 37,
   "id": "753a27a4",
   "metadata": {},
   "outputs": [
    {
     "data": {
      "image/png": "[encoded data removed]",
      "text/plain": [
       "<Figure size 1200x600 with 10 Axes>"
      ]
     },
     "metadata": {},
     "output_type": "display_data"
    }
   ],
   "source": [
    "import os\n",
    "import glob\n",
    "import numpy as np\n",
    "import matplotlib.pyplot as plt\n",
    "from pathlib import Path\n",
    "\n",
    "def plot_results(start=0, stop=0, bucket='', id=(), labels=()):  \n",
    "    # 绘制训练结果log图 'results/results.txt' \n",
    "    fig, ax = plt.subplots(2, 5, figsize=(12, 6))\n",
    "    ax = ax.ravel()\n",
    "    s = ['GIoU', 'Objectness', 'Classification', 'Precision', 'Recall',\n",
    "         'val GIoU', 'val Objectness', 'val Classification', 'mAP@0.5', 'mAP@0.5:0.95']\n",
    "    \n",
    "    if bucket:\n",
    "        os.system('rm -rf storage.googleapis.com')\n",
    "        files = ['https://storage.googleapis.com/%s/results%g.txt' % (bucket, x) for x in id]\n",
    "    else:\n",
    "        files = glob.glob('results/results*.txt') + glob.glob('../../Downloads/results*.txt')\n",
    "    \n",
    "    for fi, f in enumerate(files):\n",
    "        try:\n",
    "            results = np.loadtxt(f, usecols=[2, 3, 4, 8, 9, 12, 13, 14, 10, 11], ndmin=2).T\n",
    "            n = results.shape[1]  # number of rows\n",
    "            x = range(start, min(stop, n) if stop else n)\n",
    "            for i in range(10):\n",
    "                y = results[i, x]\n",
    "                if i in [0, 1, 2, 5, 6, 7]:\n",
    "                    y[y == 0] = np.nan  # dont show zero loss values\n",
    "                    # y /= y[0]  # normalize\n",
    "                label = labels[fi] if len(labels) > fi else Path(f).stem\n",
    "                ax[i].plot(x, y, marker='.', label=label, linewidth=2, markersize=8)\n",
    "                ax[i].set_title(s[i])\n",
    "                ax[i].legend()  # Ensure legend is created for each subplot\n",
    "                # if i in [5, 6, 7]:  # share train and val loss y axes\n",
    "                #     ax[i].get_shared_y_axes().join(ax[i], ax[i - 5])\n",
    "        except Exception as e:\n",
    "            print(f'Warning: Plotting error for {f}, skipping file. Error: {e}')\n",
    "    \n",
    "    fig.tight_layout()\n",
    "    fig.savefig('datasets3/results/results.png', dpi=200)\n",
    "\n",
    "labels = ['GIoU', 'Objectness', 'Classification', 'Precision', 'Recall',\n",
    "         'val GIoU', 'val Objectness', 'val Classification', 'mAP@0.5', 'mAP@0.5:0.95']\n",
    "plot_results(labels=labels)"
   ]
  },
  {
   "cell_type": "code",
   "execution_count": 38,
   "id": "bbc3d9b0",
   "metadata": {},
   "outputs": [
    {
     "ename": "FileNotFoundError",
     "evalue": "[Errno 2] No such file or directory: 'results/train_batch0.jpg'",
     "output_type": "error",
     "traceback": [
      "\u001b[1;31m---------------------------------------------------------------------------\u001b[0m",
      "\u001b[1;31mFileNotFoundError\u001b[0m                         Traceback (most recent call last)",
      "Cell \u001b[1;32mIn[38], line 1\u001b[0m\n\u001b[1;32m----> 1\u001b[0m img \u001b[38;5;241m=\u001b[39m \u001b[43mmpimg\u001b[49m\u001b[38;5;241;43m.\u001b[39;49m\u001b[43mimread\u001b[49m\u001b[43m(\u001b[49m\u001b[38;5;124;43m'\u001b[39;49m\u001b[38;5;124;43mresults/train_batch0.jpg\u001b[39;49m\u001b[38;5;124;43m'\u001b[39;49m\u001b[43m)\u001b[49m\n\u001b[0;32m      2\u001b[0m plt\u001b[38;5;241m.\u001b[39mimshow(img)\n\u001b[0;32m      3\u001b[0m plt\u001b[38;5;241m.\u001b[39maxis(\u001b[38;5;124m'\u001b[39m\u001b[38;5;124moff\u001b[39m\u001b[38;5;124m'\u001b[39m)\n",
      "File \u001b[1;32mD:\\ANACONDA2\\lib\\site-packages\\matplotlib\\image.py:1561\u001b[0m, in \u001b[0;36mimread\u001b[1;34m(fname, format)\u001b[0m\n\u001b[0;32m   1554\u001b[0m \u001b[38;5;28;01mif\u001b[39;00m \u001b[38;5;28misinstance\u001b[39m(fname, \u001b[38;5;28mstr\u001b[39m) \u001b[38;5;129;01mand\u001b[39;00m \u001b[38;5;28mlen\u001b[39m(parse\u001b[38;5;241m.\u001b[39murlparse(fname)\u001b[38;5;241m.\u001b[39mscheme) \u001b[38;5;241m>\u001b[39m \u001b[38;5;241m1\u001b[39m:\n\u001b[0;32m   1555\u001b[0m     \u001b[38;5;66;03m# Pillow doesn't handle URLs directly.\u001b[39;00m\n\u001b[0;32m   1556\u001b[0m     \u001b[38;5;28;01mraise\u001b[39;00m \u001b[38;5;167;01mValueError\u001b[39;00m(\n\u001b[0;32m   1557\u001b[0m         \u001b[38;5;124m\"\u001b[39m\u001b[38;5;124mPlease open the URL for reading and pass the \u001b[39m\u001b[38;5;124m\"\u001b[39m\n\u001b[0;32m   1558\u001b[0m         \u001b[38;5;124m\"\u001b[39m\u001b[38;5;124mresult to Pillow, e.g. with \u001b[39m\u001b[38;5;124m\"\u001b[39m\n\u001b[0;32m   1559\u001b[0m         \u001b[38;5;124m\"\u001b[39m\u001b[38;5;124m``np.array(PIL.Image.open(urllib.request.urlopen(url)))``.\u001b[39m\u001b[38;5;124m\"\u001b[39m\n\u001b[0;32m   1560\u001b[0m         )\n\u001b[1;32m-> 1561\u001b[0m \u001b[38;5;28;01mwith\u001b[39;00m \u001b[43mimg_open\u001b[49m\u001b[43m(\u001b[49m\u001b[43mfname\u001b[49m\u001b[43m)\u001b[49m \u001b[38;5;28;01mas\u001b[39;00m image:\n\u001b[0;32m   1562\u001b[0m     \u001b[38;5;28;01mreturn\u001b[39;00m (_pil_png_to_float_array(image)\n\u001b[0;32m   1563\u001b[0m             \u001b[38;5;28;01mif\u001b[39;00m \u001b[38;5;28misinstance\u001b[39m(image, PIL\u001b[38;5;241m.\u001b[39mPngImagePlugin\u001b[38;5;241m.\u001b[39mPngImageFile) \u001b[38;5;28;01melse\u001b[39;00m\n\u001b[0;32m   1564\u001b[0m             pil_to_array(image))\n",
      "File \u001b[1;32mD:\\ANACONDA2\\lib\\site-packages\\PIL\\Image.py:3227\u001b[0m, in \u001b[0;36mopen\u001b[1;34m(fp, mode, formats)\u001b[0m\n\u001b[0;32m   3224\u001b[0m     filename \u001b[38;5;241m=\u001b[39m fp\n\u001b[0;32m   3226\u001b[0m \u001b[38;5;28;01mif\u001b[39;00m filename:\n\u001b[1;32m-> 3227\u001b[0m     fp \u001b[38;5;241m=\u001b[39m \u001b[43mbuiltins\u001b[49m\u001b[38;5;241;43m.\u001b[39;49m\u001b[43mopen\u001b[49m\u001b[43m(\u001b[49m\u001b[43mfilename\u001b[49m\u001b[43m,\u001b[49m\u001b[43m \u001b[49m\u001b[38;5;124;43m\"\u001b[39;49m\u001b[38;5;124;43mrb\u001b[39;49m\u001b[38;5;124;43m\"\u001b[39;49m\u001b[43m)\u001b[49m\n\u001b[0;32m   3228\u001b[0m     exclusive_fp \u001b[38;5;241m=\u001b[39m \u001b[38;5;28;01mTrue\u001b[39;00m\n\u001b[0;32m   3230\u001b[0m \u001b[38;5;28;01mtry\u001b[39;00m:\n",
      "\u001b[1;31mFileNotFoundError\u001b[0m: [Errno 2] No such file or directory: 'results/train_batch0.jpg'"
     ]
    }
   ],
   "source": [
    "img = mpimg.imread('results/train_batch0.jpg')\n",
    "plt.imshow(img)\n",
    "plt.axis('off')"
   ]
  },
  {
   "cell_type": "code",
   "execution_count": 39,
   "id": "5f053337",
   "metadata": {},
   "outputs": [
    {
     "data": {
      "text/plain": [
       "2"
      ]
     },
     "execution_count": 39,
     "metadata": {},
     "output_type": "execute_result"
    }
   ],
   "source": [
    "import os\n",
    "\n",
    "source = \"results/data/train\"\n",
    "weights = \"models/best.pt\"\n",
    "conf = 0.4\n",
    "\n",
    "os.system(f\"python datasets/src/yolov5/detect.py --source {source} --weights {weights} --conf {conf}\")\n"
   ]
  },
  {
   "cell_type": "code",
   "execution_count": 41,
   "id": "740d65ed",
   "metadata": {},
   "outputs": [],
   "source": [
    "from glob import glob\n",
    "import cv2\n",
    "import matplotlib.pyplot as plt\n",
    "%matplotlib inline\n",
    "for img in glob(\"results/inference/output/\" + \"*.jpg\"):\n",
    "    input_img = cv2.imread(img)\n",
    "    plt.imshow(cv2.cvtColor(input_img, cv2.COLOR_BGR2RGB))\n",
    "    plt.show()"
   ]
  },
  {
   "cell_type": "code",
   "execution_count": null,
   "id": "5d729601",
   "metadata": {},
   "outputs": [],
   "source": []
  }
 ],
 "metadata": {
  "kernelspec": {
   "display_name": "Python 3 (ipykernel)",
   "language": "python",
   "name": "python3"
  },
  "language_info": {
   "codemirror_mode": {
    "name": "ipython",
    "version": 3
   },
   "file_extension": ".py",
   "mimetype": "text/x-python",
   "name": "python",
   "nbconvert_exporter": "python",
   "pygments_lexer": "ipython3",
   "version": "3.10.9"
  }
 },
 "nbformat": 4,
 "nbformat_minor": 5
}
